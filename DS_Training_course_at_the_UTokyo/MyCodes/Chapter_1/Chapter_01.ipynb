{
 "cells": [
  {
   "cell_type": "markdown",
   "metadata": {},
   "source": [
    "1-2-5-2 無名関数とmap"
   ]
  },
  {
   "cell_type": "code",
   "execution_count": 16,
   "metadata": {},
   "outputs": [
    {
     "data": {
      "text/plain": [
       "20"
      ]
     },
     "execution_count": 16,
     "metadata": {},
     "output_type": "execute_result"
    }
   ],
   "source": [
    "def calc_multi(a, b):\n",
    "    return a * b\n",
    "\n",
    "calc_multi(2, 10)"
   ]
  },
  {
   "cell_type": "code",
   "execution_count": 18,
   "metadata": {},
   "outputs": [
    {
     "data": {
      "text/plain": [
       "30"
      ]
     },
     "execution_count": 18,
     "metadata": {},
     "output_type": "execute_result"
    }
   ],
   "source": [
    "(lambda a, b:a * b)(3, 10)"
   ]
  },
  {
   "cell_type": "code",
   "execution_count": 19,
   "metadata": {},
   "outputs": [],
   "source": [
    "def calc_double(x):\n",
    "    return x * 2"
   ]
  },
  {
   "cell_type": "code",
   "execution_count": 20,
   "metadata": {},
   "outputs": [
    {
     "name": "stdout",
     "output_type": "stream",
     "text": [
      "2\n",
      "4\n",
      "6\n",
      "8\n"
     ]
    }
   ],
   "source": [
    "for num in [1, 2, 3, 4]:\n",
    "    print(calc_double(num))"
   ]
  },
  {
   "cell_type": "code",
   "execution_count": 21,
   "metadata": {},
   "outputs": [
    {
     "data": {
      "text/plain": [
       "[2, 4, 6, 8]"
      ]
     },
     "execution_count": 21,
     "metadata": {},
     "output_type": "execute_result"
    }
   ],
   "source": [
    "list(map(calc_double, [1, 2, 3, 4]))"
   ]
  },
  {
   "cell_type": "code",
   "execution_count": 23,
   "metadata": {},
   "outputs": [
    {
     "data": {
      "text/plain": [
       "[2, 4, 6, 8]"
      ]
     },
     "execution_count": 23,
     "metadata": {},
     "output_type": "execute_result"
    }
   ],
   "source": [
    "list(map(lambda x: x * 2, [1, 2, 3, 4]))"
   ]
  },
  {
   "cell_type": "markdown",
   "metadata": {},
   "source": [
    "1-2-6 クラスとンスタンス"
   ]
  },
  {
   "cell_type": "code",
   "execution_count": 7,
   "metadata": {},
   "outputs": [
    {
     "name": "stdout",
     "output_type": "stream",
     "text": [
      "10 100\n"
     ]
    }
   ],
   "source": [
    "class PrintClass:\n",
    "    def print_me(self):\n",
    "        print(self.x, self.y)\n",
    "\n",
    "# インスタンスの作成，生成\n",
    "p1 = PrintClass()\n",
    "\n",
    "# 属性の値を代入\n",
    "p1.x = 10\n",
    "p1.y = 100\n",
    "p1.z = 1000\n",
    "\n",
    "p1.print_me()"
   ]
  },
  {
   "cell_type": "code",
   "execution_count": 8,
   "metadata": {},
   "outputs": [],
   "source": [
    "class MyCalcClass():\n",
    "    def __init__(self, x, y):\n",
    "        self.x = x\n",
    "        self.y = y\n",
    "    \n",
    "    def calc_add1(self, a, b):\n",
    "        return a + b\n",
    "    \n",
    "    def calc_add2(self):\n",
    "        return self.x + self. y\n",
    "    \n",
    "    def calc_mutli(self, a, b):\n",
    "        return a * b\n",
    "    \n",
    "    def calc_print(self, a):\n",
    "        print('data:{0}:yの値{1}'.format(a, self.y))"
   ]
  },
  {
   "cell_type": "code",
   "execution_count": 9,
   "metadata": {},
   "outputs": [],
   "source": [
    "instance_1 = MyCalcClass(1, 2)\n",
    "instance_2 = MyCalcClass(5, 10) "
   ]
  },
  {
   "cell_type": "code",
   "execution_count": 12,
   "metadata": {},
   "outputs": [
    {
     "name": "stdout",
     "output_type": "stream",
     "text": [
      "2つの数の足し算(新たに数字を引数としてセット): 8\n",
      "2つの数の足し算(インスタンス化の時の値): 3\n",
      "2つの数のかけ算: 15\n",
      "data:5:yの値2\n",
      "None\n"
     ]
    }
   ],
   "source": [
    "print('2つの数の足し算(新たに数字を引数としてセット):', instance_1.calc_add1(5, 3))\n",
    "print('2つの数の足し算(インスタンス化の時の値):', instance_1.calc_add2())\n",
    "print('2つの数のかけ算:', instance_1.calc_mutli(5, 3))\n",
    "instance_1.calc_print(5)"
   ]
  }
 ],
 "metadata": {
  "kernelspec": {
   "display_name": "Python 3",
   "language": "python",
   "name": "python3"
  },
  "language_info": {
   "codemirror_mode": {
    "name": "ipython",
    "version": 3
   },
   "file_extension": ".py",
   "mimetype": "text/x-python",
   "name": "python",
   "nbconvert_exporter": "python",
   "pygments_lexer": "ipython3",
   "version": "3.12.5"
  }
 },
 "nbformat": 4,
 "nbformat_minor": 2
}
